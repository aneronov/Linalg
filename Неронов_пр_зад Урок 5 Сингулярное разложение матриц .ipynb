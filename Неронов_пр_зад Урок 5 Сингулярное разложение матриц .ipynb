{
  "nbformat": 4,
  "nbformat_minor": 0,
  "metadata": {
    "colab": {
      "provenance": []
    },
    "kernelspec": {
      "name": "python3",
      "display_name": "Python 3"
    },
    "language_info": {
      "name": "python"
    }
  },
  "cells": [
    {
      "cell_type": "markdown",
      "source": [
        "# Линейная алгебра. Практическое задание Урок 5 Сингулярное разложение матриц"
      ],
      "metadata": {
        "id": "PJUAJnHTJmMM"
      }
    },
    {
      "cell_type": "code",
      "execution_count": 13,
      "metadata": {
        "colab": {
          "base_uri": "https://localhost:8080/"
        },
        "id": "HpQxeFA-IRMi",
        "outputId": "292b08d4-4512-47ad-a6a5-01778ee4f721"
      },
      "outputs": [
        {
          "output_type": "stream",
          "name": "stdout",
          "text": [
            "SVD для матрицы А: \n",
            "[[ 1  2  0]\n",
            " [ 0  0  5]\n",
            " [ 3 -4  2]\n",
            " [ 1  6  5]\n",
            " [ 0  1  0]]\n",
            "является: \n",
            "[[ 1.  2.  0.]\n",
            " [ 0. -0.  5.]\n",
            " [ 3. -4.  2.]\n",
            " [ 1.  6.  5.]\n",
            " [-0.  1. -0.]]\n"
          ]
        }
      ],
      "source": [
        "import numpy as np\n",
        "np.set_printoptions(precision=2, suppress=True)\n",
        "#Найдите посредством NumPy SVD для матрицы:\n",
        "A = np.array([[1, 2, 0], [0, 0, 5], [3, -4, 2], [1, 6, 5], [0, 1, 0]])\n",
        "#представление матрицы А в виде: A=UDV^T - называется сингулярным разложением\n",
        "U, s, W = np.linalg.svd(A)\n",
        "D = np.zeros_like(A, dtype=float)\n",
        "D[np.diag_indices(min(A.shape))] = s\n",
        "SVD = np.dot(np.dot(U, D), W)\n",
        "print('SVD для матрицы А: ', A, sep='\\n')\n",
        "print('является: ', SVD, sep='\\n')\n",
        "\n"
      ]
    },
    {
      "cell_type": "code",
      "source": [
        "#Для матрицы из предыдущего задания найдите евклидову норму\n",
        "print('Евклидова норма для матрицы A:', np.linalg.norm(A, ord = 2))"
      ],
      "metadata": {
        "colab": {
          "base_uri": "https://localhost:8080/"
        },
        "id": "k6FGMKgnTxI8",
        "outputId": "64065387-8ad8-4cb9-9985-42f1a1394530"
      },
      "execution_count": 16,
      "outputs": [
        {
          "output_type": "stream",
          "name": "stdout",
          "text": [
            "Евклидова норма для матрицы A: 8.824868854820444\n"
          ]
        }
      ]
    },
    {
      "cell_type": "code",
      "source": [
        "#Для матрицы из предыдущего задания найдите норму Фробениуса\n",
        "print('Норма Фробениуса для матрицы A:', np.linalg.norm(A, ord = 'fro'))"
      ],
      "metadata": {
        "colab": {
          "base_uri": "https://localhost:8080/"
        },
        "id": "KMcHyxIIVKDX",
        "outputId": "b47b39d2-1be4-47a2-9589-9a57e4ffcfb4"
      },
      "execution_count": 17,
      "outputs": [
        {
          "output_type": "stream",
          "name": "stdout",
          "text": [
            "Норма Фробениуса для матрицы A: 11.045361017187261\n"
          ]
        }
      ]
    }
  ]
}